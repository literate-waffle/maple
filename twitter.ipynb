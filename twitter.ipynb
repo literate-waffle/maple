{
 "cells": [
  {
   "cell_type": "markdown",
   "metadata": {},
   "source": [
    "# Prédiction de types MBTI à partir de Tweets\n",
    "\n",
    "Ce notebook étend le travail réalisé sur le dataset Kaggle MBTI (voir [mbti.ipynb](mbti.ipynb)). L'objectif est de voir s'il est possible de prédire le type MBTI de célébrités à partir de leurs Tweets.\n",
    "\n",
    "Pour cela, nous avons récupéré les 50 derniers Tweets de **77 célébrités** dont nous avons obtenu le type MBTI grâce à [The MBTI Database](https://www.mbtidatabase.com/).\n",
    "\n",
    "Commençons par importer les librairies pertinentes :"
   ]
  },
  {
   "cell_type": "code",
   "execution_count": 1,
   "metadata": {},
   "outputs": [],
   "source": [
    "%matplotlib inline\n",
    "\n",
    "import matplotlib.pyplot as plt\n",
    "import numpy as np\n",
    "import pandas as pd\n",
    "import sklearn as sk\n",
    "import seaborn as sns\n",
    "\n",
    "pd.set_option('display.width', 3000)\n",
    "pd.set_option('display.max_rows', 200)\n",
    "pd.set_option('display.max_columns', 200)"
   ]
  },
  {
   "cell_type": "markdown",
   "metadata": {},
   "source": [
    "Import des données :"
   ]
  },
  {
   "cell_type": "code",
   "execution_count": 2,
   "metadata": {},
   "outputs": [],
   "source": [
    "DATASET = \"./data/tweets.json\"\n",
    "\n",
    "def get_dataset():\n",
    "    data = pd.read_json(DATASET, orient='records')\n",
    "    data = data[[\"text\", \"mbti\", \"name\", \"screen_name\"]]\n",
    "    return data"
   ]
  },
  {
   "cell_type": "code",
   "execution_count": 3,
   "metadata": {},
   "outputs": [],
   "source": [
    "data = get_dataset()"
   ]
  },
  {
   "cell_type": "markdown",
   "metadata": {},
   "source": [
    "Aperçu du dataset :"
   ]
  },
  {
   "cell_type": "code",
   "execution_count": 4,
   "metadata": {},
   "outputs": [
    {
     "data": {
      "text/html": [
       "<div>\n",
       "<style scoped>\n",
       "    .dataframe tbody tr th:only-of-type {\n",
       "        vertical-align: middle;\n",
       "    }\n",
       "\n",
       "    .dataframe tbody tr th {\n",
       "        vertical-align: top;\n",
       "    }\n",
       "\n",
       "    .dataframe thead th {\n",
       "        text-align: right;\n",
       "    }\n",
       "</style>\n",
       "<table border=\"1\" class=\"dataframe\">\n",
       "  <thead>\n",
       "    <tr style=\"text-align: right;\">\n",
       "      <th></th>\n",
       "      <th>text</th>\n",
       "      <th>mbti</th>\n",
       "      <th>name</th>\n",
       "      <th>screen_name</th>\n",
       "    </tr>\n",
       "  </thead>\n",
       "  <tbody>\n",
       "    <tr>\n",
       "      <th>0</th>\n",
       "      <td>From a big NBA fan, congrats to future Hall of...</td>\n",
       "      <td>ENFJ</td>\n",
       "      <td>Barack Obama</td>\n",
       "      <td>BarackObama</td>\n",
       "    </tr>\n",
       "    <tr>\n",
       "      <th>1</th>\n",
       "      <td>A voice everybody should hear. https://t.co/0u...</td>\n",
       "      <td>ENFJ</td>\n",
       "      <td>Barack Obama</td>\n",
       "      <td>BarackObama</td>\n",
       "    </tr>\n",
       "    <tr>\n",
       "      <th>2</th>\n",
       "      <td>And here are some ways to help cyclone victims...</td>\n",
       "      <td>ENFJ</td>\n",
       "      <td>Barack Obama</td>\n",
       "      <td>BarackObama</td>\n",
       "    </tr>\n",
       "    <tr>\n",
       "      <th>3</th>\n",
       "      <td>What a great moment. Happy 110th, Virginia. ht...</td>\n",
       "      <td>ENFJ</td>\n",
       "      <td>Barack Obama</td>\n",
       "      <td>BarackObama</td>\n",
       "    </tr>\n",
       "    <tr>\n",
       "      <th>4</th>\n",
       "      <td>Michelle and I send our deepest sympathies to ...</td>\n",
       "      <td>ENFJ</td>\n",
       "      <td>Barack Obama</td>\n",
       "      <td>BarackObama</td>\n",
       "    </tr>\n",
       "  </tbody>\n",
       "</table>\n",
       "</div>"
      ],
      "text/plain": [
       "                                                text  mbti          name  screen_name\n",
       "0  From a big NBA fan, congrats to future Hall of...  ENFJ  Barack Obama  BarackObama\n",
       "1  A voice everybody should hear. https://t.co/0u...  ENFJ  Barack Obama  BarackObama\n",
       "2  And here are some ways to help cyclone victims...  ENFJ  Barack Obama  BarackObama\n",
       "3  What a great moment. Happy 110th, Virginia. ht...  ENFJ  Barack Obama  BarackObama\n",
       "4  Michelle and I send our deepest sympathies to ...  ENFJ  Barack Obama  BarackObama"
      ]
     },
     "execution_count": 4,
     "metadata": {},
     "output_type": "execute_result"
    }
   ],
   "source": [
    "data.head()"
   ]
  },
  {
   "cell_type": "markdown",
   "metadata": {},
   "source": [
    "Nombre de tweets récupérés :"
   ]
  },
  {
   "cell_type": "code",
   "execution_count": 5,
   "metadata": {},
   "outputs": [
    {
     "data": {
      "text/plain": [
       "2789"
      ]
     },
     "execution_count": 5,
     "metadata": {},
     "output_type": "execute_result"
    }
   ],
   "source": [
    "len(data)"
   ]
  },
  {
   "cell_type": "markdown",
   "metadata": {},
   "source": [
    "## Analyse du dataset"
   ]
  },
  {
   "cell_type": "markdown",
   "metadata": {},
   "source": [
    "Tout d'abord, regardons la répartition des types MBTI au sein des tweets récupérés :"
   ]
  },
  {
   "cell_type": "code",
   "execution_count": 6,
   "metadata": {},
   "outputs": [
    {
     "data": {
      "image/png": "[encoded data removed]",
      "text/plain": [
       "<Figure size 720x360 with 1 Axes>"
      ]
     },
     "metadata": {
      "needs_background": "light"
     },
     "output_type": "display_data"
    }
   ],
   "source": [
    "# Comptage des types MBTI\n",
    "counts = data.mbti.value_counts()\n",
    "mbti_types = counts.index\n",
    "num_users = counts.values\n",
    "\n",
    "# Tracé du graphique\n",
    "plt.figure(figsize=(10,5))\n",
    "sns.barplot(mbti_types, num_users, color=\"steelblue\")\n",
    "plt.xlabel(\"Type MBTI\")\n",
    "plt.ylabel(\"Nombre de Tweets\");"
   ]
  },
  {
   "cell_type": "markdown",
   "metadata": {},
   "source": [
    "La répartition est plus uniforme que sur le dataset Kaggle MBTI. C'est une conséquence du fait que l'on a choisi les personnalités pour équilibrer le nombre d'utilisateurs par type MBTI.\n",
    "\n",
    "Par contre, les types MBTI dominants sont très différents : dans ce dataset, ESFP et ISFP sont dominants alors qu'ils étaient minoritaires dans le dataset Kaggle MBTI. Probablement le reflet des personnalités des célébrités de Twitter…"
   ]
  },
  {
   "cell_type": "markdown",
   "metadata": {},
   "source": [
    "## Apprentissage supervisé\n",
    "\n",
    "On entraîne un classificateur de type régression logistique sur la base de données de tweets. Ce classificateur a été choisi car c'est celui qui a donné les meilleurs résultats sur le dataset Kaggle MBTI."
   ]
  },
  {
   "cell_type": "code",
   "execution_count": 7,
   "metadata": {},
   "outputs": [],
   "source": [
    "data = get_dataset()\n",
    "# data = data.groupby([\"mbti\", \"screen_name\"]).text.apply(lambda t: \"|||\".join(t)).reset_index()\n",
    "# data.head()"
   ]
  },
  {
   "cell_type": "markdown",
   "metadata": {},
   "source": [
    "### Classificateur Logistic Regression"
   ]
  },
  {
   "cell_type": "code",
   "execution_count": 8,
   "metadata": {},
   "outputs": [
    {
     "data": {
      "text/plain": [
       "(0.3231770914173921, 0.38509800819355794, 0.3514308332086986)"
      ]
     },
     "execution_count": 8,
     "metadata": {},
     "output_type": "execute_result"
    }
   ],
   "source": [
    "from sklearn.model_selection import train_test_split\n",
    "from sklearn.feature_extraction.text import CountVectorizer\n",
    "from sklearn.linear_model import LogisticRegression\n",
    "from sklearn.ensemble import RandomForestClassifier\n",
    "\n",
    "from classifier_comparison import evaluate\n",
    "from preprocessing import format_text\n",
    "\n",
    "X = data.text  # Inputs\n",
    "Y = data.mbti  # Outputs (labels)\n",
    "\n",
    "train_x, test_x, train_y, test_y = train_test_split(X, Y, test_size=0.4)\n",
    "\n",
    "# Vectorisation du texte.\n",
    "vectorizer = CountVectorizer(stop_words=\"english\")\n",
    "train_x = vectorizer.fit_transform(train_x.apply(format_text))\n",
    "test_x = vectorizer.transform(test_x.apply(format_text))\n",
    "\n",
    "# Définition et entraînement du classificateur.\n",
    "clf = LogisticRegression(class_weight=\"balanced\")\n",
    "clf.fit(train_x, train_y)\n",
    "\n",
    "# Calcul des scores.\n",
    "train_score = clf.score(train_x, train_y)\n",
    "test_score = clf.score(test_x, test_y)\n",
    "\n",
    "# Calcul et évaluation des résultats.\n",
    "y = clf.predict(test_x)\n",
    "\n",
    "\n",
    "# Affichage des performances.\n",
    "evaluate(test_y, y)"
   ]
  },
  {
   "cell_type": "markdown",
   "metadata": {},
   "source": [
    "### Analyse des résultats\n",
    "\n",
    "Sur le dataset Kaggle MBTI, on obtenait un F-score optimal d'environ 0.75. Il est ici d'environ 0.33 : les performances sont donc bien moindres.\n",
    "\n",
    "Le comportement en généralisation pourrait également être meilleur. Par exemple, les tweets suivants ont été publiés par un ENFJ :"
   ]
  },
  {
   "cell_type": "code",
   "execution_count": 9,
   "metadata": {},
   "outputs": [
    {
     "data": {
      "text/plain": [
       "array(['INFP', 'INTJ'], dtype=object)"
      ]
     },
     "execution_count": 9,
     "metadata": {},
     "output_type": "execute_result"
    }
   ],
   "source": [
    "tweets = [\n",
    "    \"Hey all, anyone aware of some really good material to get started with @vuejs in the real world, transitioning from Angular? 😄 Basics (boilerplate, components, API interaction), useful tooling (VueCLI, TS?), best practices... Any insight very helpful. 🙏 Thanks!\",\n",
    "    \"Thrilled to say — UPDATE RELEASED! ✨ Hope you enjoy all the new features! I had fun implementing them. Feedback much appreciated.\"\n",
    "]\n",
    "x = vectorizer.transform(np.array([format_text(t) for t in tweets]))\n",
    "clf.predict(x)"
   ]
  },
  {
   "cell_type": "markdown",
   "metadata": {},
   "source": [
    "La moindre qualité des prédictions peut s'expliquer de plusieurs manières.\n",
    "\n",
    "Tout d'abord, il est raisonnable de penser que le type MBTI d'une célébrité sur Twitter ne transparaisse pas dans ses Tweets, pour plusieurs raisons :\n",
    "\n",
    "- Le texte d'un Tweet est influencé par un grand nombre de facteurs, ne serait-ce que par la longueur limitée du texte.\n",
    "- Les célébrités n'écrivent pas forcément d'une façon qui reflète leur personnalité étant donné que leur utilisation de Twitter est souvent orientée (par exemple à des fins de communication ou de promotion).\n",
    "\n",
    "Il y a aussi probablement d'autres caractéristiques que le texte qui font transparaître la personnalité d'un utilisateur sur Twitter : usage de la ponctuation, des emojis, etc.\n",
    "\n",
    "Il est aussi probable que choisir les 50 derniers tweets ne suffise pas à évaluer la personnalité d'un utilisateur Twitter."
   ]
  },
  {
   "cell_type": "markdown",
   "metadata": {},
   "source": [
    "## Conclusion\n",
    "\n",
    "Ce travail constituait une tentative de transposition du travail effectué sur le dataset Kaggle MBTI, mais il apparaît finalement évident qu'une analyse plus approfondie de la morphologie et de la structure des données de type Tweets soit nécessaire. De futurs travaux pourront probablement s'inspirer de travaux de recherche sur le comportement des utilisateurs sur les réseaux sociaux comme Twitter."
   ]
  }
 ],
 "metadata": {
  "kernelspec": {
   "display_name": "Python 3",
   "language": "python",
   "name": "python3"
  },
  "language_info": {
   "codemirror_mode": {
    "name": "ipython",
    "version": 3
   },
   "file_extension": ".py",
   "mimetype": "text/x-python",
   "name": "python",
   "nbconvert_exporter": "python",
   "pygments_lexer": "ipython3",
   "version": "3.7.2"
  }
 },
 "nbformat": 4,
 "nbformat_minor": 2
}
