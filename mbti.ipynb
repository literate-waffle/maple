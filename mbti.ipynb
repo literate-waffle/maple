{
 "cells": [
  {
   "cell_type": "markdown",
   "metadata": {},
   "source": [
    "# MBTI Prediction"
   ]
  },
  {
   "cell_type": "code",
   "execution_count": 3,
   "metadata": {},
   "outputs": [
    {
     "data": {
      "text/html": [
       "<div>\n",
       "<style scoped>\n",
       "    .dataframe tbody tr th:only-of-type {\n",
       "        vertical-align: middle;\n",
       "    }\n",
       "\n",
       "    .dataframe tbody tr th {\n",
       "        vertical-align: top;\n",
       "    }\n",
       "\n",
       "    .dataframe thead th {\n",
       "        text-align: right;\n",
       "    }\n",
       "</style>\n",
       "<table border=\"1\" class=\"dataframe\">\n",
       "  <thead>\n",
       "    <tr style=\"text-align: right;\">\n",
       "      <th></th>\n",
       "      <th>type</th>\n",
       "      <th>posts</th>\n",
       "    </tr>\n",
       "  </thead>\n",
       "  <tbody>\n",
       "    <tr>\n",
       "      <th>0</th>\n",
       "      <td>INFJ</td>\n",
       "      <td>'http://www.youtube.com/watch?v=qsXHcwe3krw|||...</td>\n",
       "    </tr>\n",
       "    <tr>\n",
       "      <th>1</th>\n",
       "      <td>ENTP</td>\n",
       "      <td>'I'm finding the lack of me in these posts ver...</td>\n",
       "    </tr>\n",
       "    <tr>\n",
       "      <th>2</th>\n",
       "      <td>INTP</td>\n",
       "      <td>'Good one  _____   https://www.youtube.com/wat...</td>\n",
       "    </tr>\n",
       "    <tr>\n",
       "      <th>3</th>\n",
       "      <td>INTJ</td>\n",
       "      <td>'Dear INTP,   I enjoyed our conversation the o...</td>\n",
       "    </tr>\n",
       "    <tr>\n",
       "      <th>4</th>\n",
       "      <td>ENTJ</td>\n",
       "      <td>'You're fired.|||That's another silly misconce...</td>\n",
       "    </tr>\n",
       "  </tbody>\n",
       "</table>\n",
       "</div>"
      ],
      "text/plain": [
       "   type                                              posts\n",
       "0  INFJ  'http://www.youtube.com/watch?v=qsXHcwe3krw|||...\n",
       "1  ENTP  'I'm finding the lack of me in these posts ver...\n",
       "2  INTP  'Good one  _____   https://www.youtube.com/wat...\n",
       "3  INTJ  'Dear INTP,   I enjoyed our conversation the o...\n",
       "4  ENTJ  'You're fired.|||That's another silly misconce..."
      ]
     },
     "execution_count": 3,
     "metadata": {},
     "output_type": "execute_result"
    }
   ],
   "source": [
    "import pandas as pd\n",
    "import numpy as np\n",
    "\n",
    "df = pd.read_csv(\"./data/mbti_1.csv\", header = 0)\n",
    "\n",
    "df.head()\n"
   ]
  },
  {
   "cell_type": "markdown",
   "metadata": {},
   "source": [
    "## Dataset Analysis"
   ]
  },
  {
   "cell_type": "code",
   "execution_count": null,
   "metadata": {},
   "outputs": [],
   "source": []
  },
  {
   "cell_type": "markdown",
   "metadata": {},
   "source": [
    "## Learning"
   ]
  },
  {
   "cell_type": "code",
   "execution_count": 4,
   "metadata": {},
   "outputs": [
    {
     "name": "stdout",
     "output_type": "stream",
     "text": [
      "(8675, 2)\n"
     ]
    }
   ],
   "source": [
    "data = df\n",
    "print(data.shape)\n",
    "# print(posts.iloc[6376])"
   ]
  },
  {
   "cell_type": "markdown",
   "metadata": {},
   "source": [
    "### Split dataset in train and test sets"
   ]
  },
  {
   "cell_type": "code",
   "execution_count": 5,
   "metadata": {},
   "outputs": [
    {
     "name": "stdout",
     "output_type": "stream",
     "text": [
      "(5205, 2) (3470, 2)\n"
     ]
    },
    {
     "data": {
      "text/html": [
       "<div>\n",
       "<style scoped>\n",
       "    .dataframe tbody tr th:only-of-type {\n",
       "        vertical-align: middle;\n",
       "    }\n",
       "\n",
       "    .dataframe tbody tr th {\n",
       "        vertical-align: top;\n",
       "    }\n",
       "\n",
       "    .dataframe thead th {\n",
       "        text-align: right;\n",
       "    }\n",
       "</style>\n",
       "<table border=\"1\" class=\"dataframe\">\n",
       "  <thead>\n",
       "    <tr style=\"text-align: right;\">\n",
       "      <th></th>\n",
       "      <th>type</th>\n",
       "      <th>posts</th>\n",
       "    </tr>\n",
       "  </thead>\n",
       "  <tbody>\n",
       "    <tr>\n",
       "      <th>4233</th>\n",
       "      <td>ISTP</td>\n",
       "      <td>'boring|||http://www.youtube.com/watch?v=c1KNZ...</td>\n",
       "    </tr>\n",
       "    <tr>\n",
       "      <th>1273</th>\n",
       "      <td>INFP</td>\n",
       "      <td>'The Americans   It's a new show and I really ...</td>\n",
       "    </tr>\n",
       "    <tr>\n",
       "      <th>3092</th>\n",
       "      <td>INTJ</td>\n",
       "      <td>No one under stands your sense of humor.  8653...</td>\n",
       "    </tr>\n",
       "    <tr>\n",
       "      <th>6376</th>\n",
       "      <td>ISTP</td>\n",
       "      <td>'I admire you humor, INTP. So, it would be gre...</td>\n",
       "    </tr>\n",
       "    <tr>\n",
       "      <th>7643</th>\n",
       "      <td>INFP</td>\n",
       "      <td>'I was wondering if anyone would take the time...</td>\n",
       "    </tr>\n",
       "  </tbody>\n",
       "</table>\n",
       "</div>"
      ],
      "text/plain": [
       "      type                                              posts\n",
       "4233  ISTP  'boring|||http://www.youtube.com/watch?v=c1KNZ...\n",
       "1273  INFP  'The Americans   It's a new show and I really ...\n",
       "3092  INTJ  No one under stands your sense of humor.  8653...\n",
       "6376  ISTP  'I admire you humor, INTP. So, it would be gre...\n",
       "7643  INFP  'I was wondering if anyone would take the time..."
      ]
     },
     "execution_count": 5,
     "metadata": {},
     "output_type": "execute_result"
    }
   ],
   "source": [
    "from sklearn.model_selection import train_test_split\n",
    "\n",
    "train, test = train_test_split(data, test_size=0.4, random_state=0)\n",
    "print(train.shape, test.shape)\n",
    "train.head()"
   ]
  },
  {
   "cell_type": "markdown",
   "metadata": {},
   "source": [
    "### Preprocessing"
   ]
  },
  {
   "cell_type": "code",
   "execution_count": 6,
   "metadata": {},
   "outputs": [
    {
     "data": {
      "text/html": [
       "<div>\n",
       "<style scoped>\n",
       "    .dataframe tbody tr th:only-of-type {\n",
       "        vertical-align: middle;\n",
       "    }\n",
       "\n",
       "    .dataframe tbody tr th {\n",
       "        vertical-align: top;\n",
       "    }\n",
       "\n",
       "    .dataframe thead th {\n",
       "        text-align: right;\n",
       "    }\n",
       "</style>\n",
       "<table border=\"1\" class=\"dataframe\">\n",
       "  <thead>\n",
       "    <tr style=\"text-align: right;\">\n",
       "      <th></th>\n",
       "      <th>type</th>\n",
       "      <th>posts</th>\n",
       "      <th>preprocessed_posts</th>\n",
       "    </tr>\n",
       "  </thead>\n",
       "  <tbody>\n",
       "    <tr>\n",
       "      <th>4233</th>\n",
       "      <td>ISTP</td>\n",
       "      <td>'boring|||http://www.youtube.com/watch?v=c1KNZ...</td>\n",
       "      <td>boring link mhm cap and carpenter s glasses t...</td>\n",
       "    </tr>\n",
       "    <tr>\n",
       "      <th>1273</th>\n",
       "      <td>INFP</td>\n",
       "      <td>'The Americans   It's a new show and I really ...</td>\n",
       "      <td>the americans it s a new show and i really do...</td>\n",
       "    </tr>\n",
       "    <tr>\n",
       "      <th>3092</th>\n",
       "      <td>INTJ</td>\n",
       "      <td>No one under stands your sense of humor.  8653...</td>\n",
       "      <td>no one under stands your sense of humor for th...</td>\n",
       "    </tr>\n",
       "    <tr>\n",
       "      <th>6376</th>\n",
       "      <td>ISTP</td>\n",
       "      <td>'I admire you humor, INTP. So, it would be gre...</td>\n",
       "      <td>i admire you humor intp so it would be great ...</td>\n",
       "    </tr>\n",
       "    <tr>\n",
       "      <th>7643</th>\n",
       "      <td>INFP</td>\n",
       "      <td>'I was wondering if anyone would take the time...</td>\n",
       "      <td>i was wondering if anyone would take the time...</td>\n",
       "    </tr>\n",
       "  </tbody>\n",
       "</table>\n",
       "</div>"
      ],
      "text/plain": [
       "      type                                              posts  \\\n",
       "4233  ISTP  'boring|||http://www.youtube.com/watch?v=c1KNZ...   \n",
       "1273  INFP  'The Americans   It's a new show and I really ...   \n",
       "3092  INTJ  No one under stands your sense of humor.  8653...   \n",
       "6376  ISTP  'I admire you humor, INTP. So, it would be gre...   \n",
       "7643  INFP  'I was wondering if anyone would take the time...   \n",
       "\n",
       "                                     preprocessed_posts  \n",
       "4233   boring link mhm cap and carpenter s glasses t...  \n",
       "1273   the americans it s a new show and i really do...  \n",
       "3092  no one under stands your sense of humor for th...  \n",
       "6376   i admire you humor intp so it would be great ...  \n",
       "7643   i was wondering if anyone would take the time...  "
      ]
     },
     "execution_count": 6,
     "metadata": {},
     "output_type": "execute_result"
    }
   ],
   "source": [
    "from preprocessing import format_text\n",
    "\n",
    "train = pd.DataFrame(train)\n",
    "train['preprocessed_posts'] = train['posts'].apply(format_text)\n",
    "train.head()"
   ]
  },
  {
   "cell_type": "markdown",
   "metadata": {},
   "source": [
    "### Classification"
   ]
  },
  {
   "cell_type": "markdown",
   "metadata": {},
   "source": [
    "#### Naive Bayesian"
   ]
  },
  {
   "cell_type": "code",
   "execution_count": 7,
   "metadata": {},
   "outputs": [],
   "source": [
    "from sklearn.pipeline import Pipeline\n",
    "from sklearn.feature_extraction.text import CountVectorizer\n",
    "from sklearn.feature_extraction.text import TfidfTransformer\n",
    "from sklearn.naive_bayes import MultinomialNB\n",
    "\n",
    "\n",
    "text_clf = Pipeline([('vect', CountVectorizer(stop_words='english')),\n",
    "                     ('tfidf', TfidfTransformer()),\n",
    "                     ('clf', MultinomialNB()),\n",
    "                    ])\n",
    "\n",
    "text_clf = text_clf.fit(train['preprocessed_posts'], train['type'])"
   ]
  },
  {
   "cell_type": "markdown",
   "metadata": {},
   "source": [
    "### Prediction"
   ]
  },
  {
   "cell_type": "code",
   "execution_count": 8,
   "metadata": {},
   "outputs": [
    {
     "data": {
      "text/html": [
       "<div>\n",
       "<style scoped>\n",
       "    .dataframe tbody tr th:only-of-type {\n",
       "        vertical-align: middle;\n",
       "    }\n",
       "\n",
       "    .dataframe tbody tr th {\n",
       "        vertical-align: top;\n",
       "    }\n",
       "\n",
       "    .dataframe thead th {\n",
       "        text-align: right;\n",
       "    }\n",
       "</style>\n",
       "<table border=\"1\" class=\"dataframe\">\n",
       "  <thead>\n",
       "    <tr style=\"text-align: right;\">\n",
       "      <th></th>\n",
       "      <th>type</th>\n",
       "      <th>posts</th>\n",
       "      <th>preprocessed_posts</th>\n",
       "    </tr>\n",
       "  </thead>\n",
       "  <tbody>\n",
       "    <tr>\n",
       "      <th>4587</th>\n",
       "      <td>ISFP</td>\n",
       "      <td>'Dear ISFJ Mother, I wish you were less of a w...</td>\n",
       "      <td>dear isfj mother i wish you were less of a wo...</td>\n",
       "    </tr>\n",
       "    <tr>\n",
       "      <th>2786</th>\n",
       "      <td>INFJ</td>\n",
       "      <td>'To me, I think you guys may be over analyzing...</td>\n",
       "      <td>to me i think you guys may be over analyzing ...</td>\n",
       "    </tr>\n",
       "    <tr>\n",
       "      <th>2813</th>\n",
       "      <td>ENFP</td>\n",
       "      <td>'NIHM While NIHM has her INTJ husband, I've go...</td>\n",
       "      <td>nihm while nihm has her intj husband i ve got...</td>\n",
       "    </tr>\n",
       "    <tr>\n",
       "      <th>3705</th>\n",
       "      <td>INTP</td>\n",
       "      <td>'I want 5 kids: - an astro/nuclear/theoretical...</td>\n",
       "      <td>i want kids an astro nuclear theoretical phys...</td>\n",
       "    </tr>\n",
       "    <tr>\n",
       "      <th>5957</th>\n",
       "      <td>ISFP</td>\n",
       "      <td>'I have the same thing as well. I've noticed t...</td>\n",
       "      <td>i have the same thing as well i ve noticed th...</td>\n",
       "    </tr>\n",
       "  </tbody>\n",
       "</table>\n",
       "</div>"
      ],
      "text/plain": [
       "      type                                              posts  \\\n",
       "4587  ISFP  'Dear ISFJ Mother, I wish you were less of a w...   \n",
       "2786  INFJ  'To me, I think you guys may be over analyzing...   \n",
       "2813  ENFP  'NIHM While NIHM has her INTJ husband, I've go...   \n",
       "3705  INTP  'I want 5 kids: - an astro/nuclear/theoretical...   \n",
       "5957  ISFP  'I have the same thing as well. I've noticed t...   \n",
       "\n",
       "                                     preprocessed_posts  \n",
       "4587   dear isfj mother i wish you were less of a wo...  \n",
       "2786   to me i think you guys may be over analyzing ...  \n",
       "2813   nihm while nihm has her intj husband i ve got...  \n",
       "3705   i want kids an astro nuclear theoretical phys...  \n",
       "5957   i have the same thing as well i ve noticed th...  "
      ]
     },
     "execution_count": 8,
     "metadata": {},
     "output_type": "execute_result"
    }
   ],
   "source": [
    "from preprocessing import format_text\n",
    "\n",
    "test = pd.DataFrame(test)\n",
    "test['preprocessed_posts'] = test['posts'].apply(format_text)\n",
    "test.head()"
   ]
  },
  {
   "cell_type": "code",
   "execution_count": 10,
   "metadata": {},
   "outputs": [
    {
     "name": "stdout",
     "output_type": "stream",
     "text": [
      "Accuracy: 0.2069164265129683\n"
     ]
    }
   ],
   "source": [
    "predicted = text_clf.predict(test['preprocessed_posts'])\n",
    "print(\"Accuracy: {}\".format(np.mean(predicted == test['type'])))\n",
    "# default: 0.2072\n",
    "# stop_words: 0.2069\n",
    "# stop_words & preprocessed: 0.2069"
   ]
  },
  {
   "cell_type": "code",
   "execution_count": 40,
   "metadata": {},
   "outputs": [],
   "source": [
    "from sklearn.model_selection import cross_validate\n",
    "\n",
    "np.random.seed(1)\n",
    "\n",
    "scoring = {'acc': 'accuracy',\n",
    "           'f1_micro': 'f1_micro'}\n",
    "\n",
    "results = cross_validate(text_clf, train['preprocessed_posts'], train['type'], cv=5, \n",
    "                          scoring=scoring, n_jobs=-1)"
   ]
  },
  {
   "cell_type": "code",
   "execution_count": 41,
   "metadata": {},
   "outputs": [
    {
     "name": "stdout",
     "output_type": "stream",
     "text": [
      "Accuracy: 0.2144 (+/- 0.0006)\n",
      "F1: 0.2144 (+/- 0.0006)\n"
     ]
    }
   ],
   "source": [
    "# print(results)\n",
    "print(\"Accuracy: {:0.4f} (+/- {:0.4f})\".format(np.mean(results['test_acc']),\n",
    "                                                          np.std(results['test_acc'])))\n",
    "\n",
    "print(\"F1: {:0.4f} (+/- {:0.4f})\".format(np.mean(results['test_f1_micro']),\n",
    "                                                          np.std(results['test_f1_micro'])))\n",
    "\n",
    "\n",
    "# Accuracy: 0.2140 (+/- 0.0004)\n",
    "# F1: 0.2140 (+/- 0.0004)\n",
    "\n",
    "# Preprocessed\n",
    "# Accuracy: 0.2144 (+/- 0.0006)\n",
    "# F1: 0.2144 (+/- 0.0006)"
   ]
  },
  {
   "cell_type": "markdown",
   "metadata": {},
   "source": [
    "#### SVM"
   ]
  },
  {
   "cell_type": "code",
   "execution_count": 11,
   "metadata": {},
   "outputs": [
    {
     "name": "stdout",
     "output_type": "stream",
     "text": [
      "Accuracy: 0.6590778097982709\n"
     ]
    }
   ],
   "source": [
    "from sklearn.linear_model import SGDClassifier\n",
    "\n",
    "text_clf_svm = Pipeline([('vect', CountVectorizer(stop_words='english')),\n",
    "                     ('tfidf', TfidfTransformer()),\n",
    "                     ('clf', SGDClassifier(max_iter=1000, tol=1e-3)),\n",
    "                    ])\n",
    "\n",
    "text_clf_svm = text_clf_svm.fit(train['preprocessed_posts'], train['type'])\n",
    "\n",
    "predicted_svm = text_clf_svm.predict(test['preprocessed_posts'])\n",
    "print(\"Accuracy: {}\".format(np.mean(predicted_svm == test['type'])))\n",
    "# default : 0.6585\n",
    "# stop_words : 0.6571\n",
    "# stop_words & preprocessed: 0.6591"
   ]
  },
  {
   "cell_type": "code",
   "execution_count": null,
   "metadata": {},
   "outputs": [],
   "source": []
  }
 ],
 "metadata": {
  "kernelspec": {
   "display_name": "Python 3",
   "language": "python",
   "name": "python3"
  },
  "language_info": {
   "codemirror_mode": {
    "name": "ipython",
    "version": 3
   },
   "file_extension": ".py",
   "mimetype": "text/x-python",
   "name": "python",
   "nbconvert_exporter": "python",
   "pygments_lexer": "ipython3",
   "version": "3.7.1"
  }
 },
 "nbformat": 4,
 "nbformat_minor": 2
}
